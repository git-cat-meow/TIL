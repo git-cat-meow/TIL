{
  "nbformat": 4,
  "nbformat_minor": 0,
  "metadata": {
    "colab": {
      "name": "py_codes.ipynb",
      "provenance": [],
      "collapsed_sections": [],
      "authorship_tag": "ABX9TyM4cvEBycuQOaM/SSq2CrzJ",
      "include_colab_link": true
    },
    "kernelspec": {
      "name": "python3",
      "display_name": "Python 3"
    }
  },
  "cells": [
    {
      "cell_type": "markdown",
      "metadata": {
        "id": "view-in-github",
        "colab_type": "text"
      },
      "source": [
        "<a href=\"https://colab.research.google.com/github/git-cat-meow/TIL/blob/master/py_codes.ipynb\" target=\"_parent\"><img src=\"https://colab.research.google.com/assets/colab-badge.svg\" alt=\"Open In Colab\"/></a>"
      ]
    },
    {
      "cell_type": "code",
      "metadata": {
        "id": "1CcIzmg3piuW",
        "colab_type": "code",
        "colab": {
          "base_uri": "https://localhost:8080/",
          "height": 135
        },
        "outputId": "5b68b581-6e55-4e92-c122-12c42ad39a23"
      },
      "source": [
        "import pandas as pd\n",
        "from collections import Counter\n",
        "\n",
        "d = {'key1': 'aaabbbccc', 'key2': 'aaacccddd', 'key3': 'gggaaaccc'}\n",
        "text = ['aaa', 'bbb', 'ccc']\n",
        "\n",
        "cols = ['col1', 'col2', 'col3'] # カラムがないとappend時にエラー\n",
        "df = pd.DataFrame(index=[], columns=cols)\n",
        "\n",
        "for k, v in d.items(): # keyもvalueも使えるitemsメソッド\n",
        "    list = [] # 行になるリスト\n",
        "    for i in text:\n",
        "        list.append(v.count(i)) # リストに合致する文字列の数を追加する\n",
        "    # print(list)\n",
        "    df.loc[k] = list # keyをインデックスにしてリストを追加\n",
        "display(df)"
      ],
      "execution_count": 46,
      "outputs": [
        {
          "output_type": "display_data",
          "data": {
            "text/html": [
              "<div>\n",
              "<style scoped>\n",
              "    .dataframe tbody tr th:only-of-type {\n",
              "        vertical-align: middle;\n",
              "    }\n",
              "\n",
              "    .dataframe tbody tr th {\n",
              "        vertical-align: top;\n",
              "    }\n",
              "\n",
              "    .dataframe thead th {\n",
              "        text-align: right;\n",
              "    }\n",
              "</style>\n",
              "<table border=\"1\" class=\"dataframe\">\n",
              "  <thead>\n",
              "    <tr style=\"text-align: right;\">\n",
              "      <th></th>\n",
              "      <th>col1</th>\n",
              "      <th>col2</th>\n",
              "      <th>col3</th>\n",
              "    </tr>\n",
              "  </thead>\n",
              "  <tbody>\n",
              "    <tr>\n",
              "      <th>key1</th>\n",
              "      <td>1</td>\n",
              "      <td>1</td>\n",
              "      <td>1</td>\n",
              "    </tr>\n",
              "    <tr>\n",
              "      <th>key2</th>\n",
              "      <td>1</td>\n",
              "      <td>0</td>\n",
              "      <td>1</td>\n",
              "    </tr>\n",
              "    <tr>\n",
              "      <th>key3</th>\n",
              "      <td>1</td>\n",
              "      <td>0</td>\n",
              "      <td>1</td>\n",
              "    </tr>\n",
              "  </tbody>\n",
              "</table>\n",
              "</div>"
            ],
            "text/plain": [
              "     col1 col2 col3\n",
              "key1    1    1    1\n",
              "key2    1    0    1\n",
              "key3    1    0    1"
            ]
          },
          "metadata": {
            "tags": []
          }
        }
      ]
    }
  ]
}