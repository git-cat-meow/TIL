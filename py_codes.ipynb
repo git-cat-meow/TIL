{
  "nbformat": 4,
  "nbformat_minor": 0,
  "metadata": {
    "colab": {
      "name": "py_codes.ipynb",
      "provenance": [],
      "collapsed_sections": [],
      "authorship_tag": "ABX9TyNE+yhHBQsg6H/yz7fjYFD6",
      "include_colab_link": true
    },
    "kernelspec": {
      "name": "python3",
      "display_name": "Python 3"
    }
  },
  "cells": [
    {
      "cell_type": "markdown",
      "metadata": {
        "id": "view-in-github",
        "colab_type": "text"
      },
      "source": [
        "<a href=\"https://colab.research.google.com/github/git-cat-meow/TIL/blob/master/py_codes.ipynb\" target=\"_parent\"><img src=\"https://colab.research.google.com/assets/colab-badge.svg\" alt=\"Open In Colab\"/></a>"
      ]
    },
    {
      "cell_type": "code",
      "metadata": {
        "id": "1CcIzmg3piuW",
        "colab_type": "code",
        "colab": {
          "base_uri": "https://localhost:8080/",
          "height": 135
        },
        "outputId": "d08fddf6-ea96-47e0-ea3a-139aa608e2f9"
      },
      "source": [
        "# カラム区切りで設定されたカテゴリー情報を分析可能な形にする\n",
        "# 元の値の中に特定の値が入っているかを集計し、カラムごとに記録する\n",
        "\n",
        "# 空DataFrameの作成パターン\n",
        "# http://hxn.blog.jp/archives/11591404.html\n",
        "\n",
        "import pandas as pd\n",
        "from collections import Counter\n",
        "\n",
        "d = {'key1': 'aaabbbccc', 'key2': 'aaacccddd', 'key3': 'gggaaaccc'} # keyと値のペア辞書\n",
        "text = ['aaa', 'bbb', 'ccc']\n",
        "\n",
        "cols = ['col1', 'col2', 'col3'] # カラムの設定。カラムがないとappend時にエラー\n",
        "df = pd.DataFrame(index=[], columns=cols)\n",
        "\n",
        "for k, v in d.items(): # keyもvalueも回せるitemsメソッド\n",
        "    list = [] # 行になるリストを定義\n",
        "    for i in text:\n",
        "        list.append(v.count(i)) # リストに合致する文字列の数を追加する\n",
        "    # print(list)\n",
        "    df.loc[k] = list # keyをインデックスにしてリストを追加\n",
        "display(df)"
      ],
      "execution_count": 1,
      "outputs": [
        {
          "output_type": "display_data",
          "data": {
            "text/html": [
              "<div>\n",
              "<style scoped>\n",
              "    .dataframe tbody tr th:only-of-type {\n",
              "        vertical-align: middle;\n",
              "    }\n",
              "\n",
              "    .dataframe tbody tr th {\n",
              "        vertical-align: top;\n",
              "    }\n",
              "\n",
              "    .dataframe thead th {\n",
              "        text-align: right;\n",
              "    }\n",
              "</style>\n",
              "<table border=\"1\" class=\"dataframe\">\n",
              "  <thead>\n",
              "    <tr style=\"text-align: right;\">\n",
              "      <th></th>\n",
              "      <th>col1</th>\n",
              "      <th>col2</th>\n",
              "      <th>col3</th>\n",
              "    </tr>\n",
              "  </thead>\n",
              "  <tbody>\n",
              "    <tr>\n",
              "      <th>key1</th>\n",
              "      <td>1</td>\n",
              "      <td>1</td>\n",
              "      <td>1</td>\n",
              "    </tr>\n",
              "    <tr>\n",
              "      <th>key2</th>\n",
              "      <td>1</td>\n",
              "      <td>0</td>\n",
              "      <td>1</td>\n",
              "    </tr>\n",
              "    <tr>\n",
              "      <th>key3</th>\n",
              "      <td>1</td>\n",
              "      <td>0</td>\n",
              "      <td>1</td>\n",
              "    </tr>\n",
              "  </tbody>\n",
              "</table>\n",
              "</div>"
            ],
            "text/plain": [
              "     col1 col2 col3\n",
              "key1    1    1    1\n",
              "key2    1    0    1\n",
              "key3    1    0    1"
            ]
          },
          "metadata": {
            "tags": []
          }
        }
      ]
    },
    {
      "cell_type": "code",
      "metadata": {
        "id": "BkR2p_bx7K3P",
        "colab_type": "code",
        "colab": {
          "base_uri": "https://localhost:8080/",
          "height": 106
        },
        "outputId": "e3fe016e-4aab-4196-c5f5-de7baaa74136"
      },
      "source": [
        "# DF, Seriesを辞書型に変換する\n",
        "# to_dictとzip関数で行名をキーに、任意の列を値にできる\n",
        "\n",
        "# https://note.nkmk.me/python-pandas-to-dict/\n",
        "\n",
        "import pandas as pd\n",
        "import pprint \n",
        "\n",
        "df = pd.DataFrame({'col1': [1, 2, 3]},\n",
        "                  index=['row1', 'row2', 'row3'])\n",
        "print(df)\n",
        "\n",
        "dict(zip(df.index, df['col1'])) # 直感的に分かりやすい"
      ],
      "execution_count": 2,
      "outputs": [
        {
          "output_type": "stream",
          "text": [
            "      col1\n",
            "row1     1\n",
            "row2     2\n",
            "row3     3\n"
          ],
          "name": "stdout"
        },
        {
          "output_type": "execute_result",
          "data": {
            "text/plain": [
              "{'row1': 1, 'row2': 2, 'row3': 3}"
            ]
          },
          "metadata": {
            "tags": []
          },
          "execution_count": 2
        }
      ]
    }
  ]
}