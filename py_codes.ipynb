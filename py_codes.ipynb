import pandas as pd
from collections import Counter

d = {'key1': 'aaabbbccc', 'key2': 'aaacccddd', 'key3': 'gggaaaccc'}
text = ['aaa', 'bbb', 'ccc']

cols = ['col1', 'col2', 'col3'] # カラムがないとappend時にエラー
df = pd.DataFrame(index=[], columns=cols)

for k, v in d.items(): # keyもvalueも使えるitemsメソッド
    list = [] # 行になるリスト
    for i in text:
        list.append(v.count(i)) # リストに合致する文字列の数を追加する
    # print(list)
    df.loc[k] = list # keyをインデックスにしてリストを追加
display(df)
